{
 "cells": [
  {
   "cell_type": "markdown",
   "id": "3d7ce9e2",
   "metadata": {},
   "source": [
    "1. In the below elements which of them are values or an expression? eg:- values can be\n",
    "integer or string and expressions will be mathematical operators.\n",
    "*\n",
    "'hello'\n",
    "-87.8\n",
    "-\n",
    "/\n",
    "+\n",
    "6\n",
    "\n",
    "2. What is the difference between string and variable?\n",
    "\n",
    "3. Describe three different data types.\n",
    "\n",
    "4. What is an expression made up of? What do all expressions do?\n",
    "5. This assignment statements, like spam = 10. What is the difference between an\n",
    "expression and a statement?\n",
    "6. After running the following code, what does the variable bacon contain?\n",
    "bacon = 22\n",
    "bacon + 1\n",
    "\n",
    "7. What should the values of the following two terms be?\n",
    "'spam' + 'spamspam';\n",
    "'spam' * 3\n",
    "\n",
    "8. Why is eggs a valid variable name while 100 is invalid?\n",
    "\n",
    "9. What three functions can be used to get the integer, floating-point number, or string\n",
    "version of a value?\n",
    "10. Why does this expression cause an error? How can you fix it?\n",
    "&#39;I have eaten &#39; + 99 + &#39; burritos.&#39;"
   ]
  },
  {
   "cell_type": "markdown",
   "id": "aebd9398",
   "metadata": {},
   "source": [
    "Q1 Ans:\n",
    "\n",
    "* --> experssion\n",
    "'hello' --> value\n",
    "-87.8 --> value\n",
    "- --> expression\n",
    "/ --> expression\n",
    "+ --> expression\n",
    "6 --> value"
   ]
  },
  {
   "cell_type": "markdown",
   "id": "61dd9a0f",
   "metadata": {},
   "source": [
    "What is the difference between string and variable?\n",
    "\n",
    "string is a value that is immutable. it is a stream of characters that can be stored in random access memory through a variable.\n",
    "\n",
    "\n",
    "variable is a data holder in the random access memory. for example :"
   ]
  },
  {
   "cell_type": "code",
   "execution_count": 1,
   "id": "f07fc8b6",
   "metadata": {},
   "outputs": [],
   "source": [
    "nameOfPerson = \"SomeBody\""
   ]
  },
  {
   "cell_type": "markdown",
   "id": "103a916d",
   "metadata": {},
   "source": [
    "nameOfPerson is a variable data holder that holds the string \"SomeBody\""
   ]
  },
  {
   "cell_type": "markdown",
   "id": "1d534b70",
   "metadata": {},
   "source": [
    "Describe three different data types.\n",
    "\n",
    "integer, float, string are some of the primitive data types ex:"
   ]
  },
  {
   "cell_type": "code",
   "execution_count": 3,
   "id": "61560518",
   "metadata": {},
   "outputs": [
    {
     "name": "stdout",
     "output_type": "stream",
     "text": [
      "<class 'int'> <class 'float'> <class 'str'>\n"
     ]
    }
   ],
   "source": [
    "i = 1\n",
    "j = 12.34\n",
    "s = \"somestring\"\n",
    "print(type(i), type(j), type(s))"
   ]
  },
  {
   "cell_type": "markdown",
   "id": "0886a77a",
   "metadata": {},
   "source": [
    "What is an expression made up of? What do all expressions do?\n",
    "\n",
    "expression is made up of mathematical or logical operators along with operands which will yield a result if the expression is valid example:"
   ]
  },
  {
   "cell_type": "code",
   "execution_count": 6,
   "id": "6508d8e2",
   "metadata": {},
   "outputs": [
    {
     "data": {
      "text/plain": [
       "1.6666666666666665"
      ]
     },
     "execution_count": 6,
     "metadata": {},
     "output_type": "execute_result"
    }
   ],
   "source": [
    "expression = 1+2/3\n",
    "expression\n"
   ]
  },
  {
   "cell_type": "markdown",
   "id": "f6601385",
   "metadata": {},
   "source": [
    "#counter example:\n",
    "expression = 12*/4"
   ]
  },
  {
   "cell_type": "markdown",
   "id": "9b2ef00d",
   "metadata": {},
   "source": [
    "This assignment statements, like spam = 10. What is the difference between an\n",
    "expression and a statement?\n",
    "\n",
    "asignment statement just assigns the data assigned to the variable.\n",
    "expression is also a statement only extra thing is that, it will compute the expression and then assign it to the variable."
   ]
  },
  {
   "cell_type": "code",
   "execution_count": 8,
   "id": "be78b03a",
   "metadata": {},
   "outputs": [
    {
     "data": {
      "text/plain": [
       "23"
      ]
     },
     "execution_count": 8,
     "metadata": {},
     "output_type": "execute_result"
    }
   ],
   "source": [
    "#After running the following code, what does the variable bacon contain?\n",
    "bacon = 22\n",
    "bacon + 1"
   ]
  },
  {
   "cell_type": "code",
   "execution_count": 9,
   "id": "bdcfec0e",
   "metadata": {},
   "outputs": [
    {
     "name": "stdout",
     "output_type": "stream",
     "text": [
      "22\n"
     ]
    }
   ],
   "source": [
    "print(bacon)#since we are not re assigning the value of bacon to bacon + 1, it will still retain 22"
   ]
  },
  {
   "cell_type": "code",
   "execution_count": 10,
   "id": "d9c35aa8",
   "metadata": {},
   "outputs": [
    {
     "name": "stdout",
     "output_type": "stream",
     "text": [
      "spamspamspam\n",
      "spamspamspam\n"
     ]
    }
   ],
   "source": [
    "#7. What should the values of the following two terms be?\n",
    "print('spam' + 'spamspam'); # output will be concatenation of these two strings i.e., spamspamspam\n",
    "print('spam' * 3);#output will be string spam concatenated thrice. i.e., spamspamspam"
   ]
  },
  {
   "cell_type": "markdown",
   "id": "4737c535",
   "metadata": {},
   "source": [
    "Why is eggs a valid variable name while 100 is invalid?\n",
    " eggs is a valid name, but 100 is a value and variable name cannot start with a digit or special character except _"
   ]
  },
  {
   "cell_type": "markdown",
   "id": "efc857fb",
   "metadata": {},
   "source": [
    "What three functions can be used to get the integer, floating-point number, or string\n",
    "version of a value?\n",
    "int(), float(), str()"
   ]
  },
  {
   "cell_type": "code",
   "execution_count": 15,
   "id": "4e3fae0e",
   "metadata": {},
   "outputs": [
    {
     "name": "stdout",
     "output_type": "stream",
     "text": [
      "123\n",
      "123.0\n",
      "123.45\n"
     ]
    }
   ],
   "source": [
    "print(int('123'))\n",
    "print(float('123'))\n",
    "print(str(123.45))"
   ]
  },
  {
   "cell_type": "markdown",
   "id": "8e199e1f",
   "metadata": {},
   "source": [
    "Why does this expression cause an error? How can you fix it?\n",
    "'I have eaten' + 99 + 'burritos';\n",
    "\n",
    "99 is an int type, and cannot concatenate two different data types, so the way to fix it is :"
   ]
  },
  {
   "cell_type": "code",
   "execution_count": 18,
   "id": "77446437",
   "metadata": {},
   "outputs": [
    {
     "name": "stdout",
     "output_type": "stream",
     "text": [
      "I have eaten 99 burritos\n"
     ]
    }
   ],
   "source": [
    "print('I have eaten' + ' 99 ' + 'burritos');"
   ]
  },
  {
   "cell_type": "code",
   "execution_count": null,
   "id": "8edb898e",
   "metadata": {},
   "outputs": [],
   "source": []
  }
 ],
 "metadata": {
  "kernelspec": {
   "display_name": "Python 3 (ipykernel)",
   "language": "python",
   "name": "python3"
  },
  "language_info": {
   "codemirror_mode": {
    "name": "ipython",
    "version": 3
   },
   "file_extension": ".py",
   "mimetype": "text/x-python",
   "name": "python",
   "nbconvert_exporter": "python",
   "pygments_lexer": "ipython3",
   "version": "3.9.7"
  }
 },
 "nbformat": 4,
 "nbformat_minor": 5
}
