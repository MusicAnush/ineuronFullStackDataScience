{
 "cells": [
  {
   "cell_type": "markdown",
   "id": "d0b636bb",
   "metadata": {},
   "source": [
    "Question1\n",
    "Create a function that takes three integer arguments (a, b, c) and returns the amount of\n",
    "integers which are of equal value."
   ]
  },
  {
   "cell_type": "code",
   "execution_count": 18,
   "id": "7c515717",
   "metadata": {},
   "outputs": [
    {
     "name": "stdout",
     "output_type": "stream",
     "text": [
      "0\n",
      "2\n",
      "3\n"
     ]
    }
   ],
   "source": [
    "def returnCountOfIntegersThatAreOfEqualValue(num1 : int, num2 : int, num3 : int) -> int:\n",
    "    result = 0;\n",
    "    m = dict();\n",
    "    if num1 in m:\n",
    "        m[num1] += 1;\n",
    "    else:\n",
    "        m[num1] = 1;\n",
    "    if num2 in m:\n",
    "        m[num2] += 1;\n",
    "    else:\n",
    "        m[num2] = 1;\n",
    "    if num3 in m:\n",
    "        m[num3] += 1;\n",
    "    else:\n",
    "        m[num3] = 1;\n",
    "    for k,v in m.items():\n",
    "        if v == 1:\n",
    "            continue;\n",
    "        else:\n",
    "            result =  v;\n",
    "            break;\n",
    "    return result;\n",
    "print(returnCountOfIntegersThatAreOfEqualValue(3,4,1));\n",
    "print(returnCountOfIntegersThatAreOfEqualValue(3,4,3));\n",
    "print(returnCountOfIntegersThatAreOfEqualValue(1,1,1));\n",
    "    \n",
    "        "
   ]
  },
  {
   "cell_type": "markdown",
   "id": "5b84b7a3",
   "metadata": {},
   "source": [
    "Question 2 Write a function that converts a dictionary into a list of keys-values tuples.\n",
    "Examples\n",
    "dict_to_list({\n",
    "&quot;D&quot;: 1,\n",
    "&quot;B&quot;: 2,\n",
    "&quot;C&quot;: 3\n",
    "}) ➞ [(&quot;B&quot;, 2), (&quot;C&quot;, 3), (&quot;D&quot;, 1)]\n",
    "dict_to_list({\n",
    "&quot;likes&quot;: 2,\n",
    "&quot;dislikes&quot;: 3,\n",
    "&quot;followers&quot;: 10\n",
    "}) ➞ [(&quot;dislikes&quot;, 3), (&quot;followers&quot;, 10), (&quot;likes&quot;, 2)]"
   ]
  },
  {
   "cell_type": "code",
   "execution_count": 20,
   "id": "13307ac9",
   "metadata": {},
   "outputs": [
    {
     "name": "stdout",
     "output_type": "stream",
     "text": [
      "[('B', 2), ('C', 3), ('D', 1)]\n",
      "[('dislikes', 3), ('followers', 10), ('likes', 2)]\n"
     ]
    }
   ],
   "source": [
    "def dict_to_list(d : dict)->list:\n",
    "    op = [];\n",
    "    for k,v in d.items():\n",
    "        op.append((k,v));\n",
    "    op.sort(key = lambda x : x[0]);\n",
    "    print(op);\n",
    "dict_to_list({ \"D\": 1, \"B\": 2, \"C\": 3 });\n",
    "dict_to_list( {\"likes\": 2, \"dislikes\": 3, \"followers\": 10 })\n",
    "    "
   ]
  },
  {
   "cell_type": "code",
   "execution_count": 29,
   "id": "88b05bb9",
   "metadata": {},
   "outputs": [
    {
     "name": "stdout",
     "output_type": "stream",
     "text": [
      "{'p': 'P', 's': 'S'}\n",
      "{'a': 'A', 'b': 'B', 'c': 'C'}\n"
     ]
    }
   ],
   "source": [
    "def mapping(arrOflowerCaseAlphabets) -> dict:\n",
    "    d = dict();\n",
    "    for letter in arrOflowerCaseAlphabets:\n",
    "        d[letter] = letter.upper();\n",
    "    return d;\n",
    "        #print(letter);\n",
    "print(mapping(['p', 's']))\n",
    "print(mapping(['a', 'b','c']))"
   ]
  },
  {
   "cell_type": "markdown",
   "id": "545c7904",
   "metadata": {},
   "source": [
    "Question4\n",
    "\n",
    "Write a function, that replaces all vowels in a string with a specified vowel."
   ]
  },
  {
   "cell_type": "code",
   "execution_count": 32,
   "id": "81700a25",
   "metadata": {},
   "outputs": [
    {
     "name": "stdout",
     "output_type": "stream",
     "text": [
      "upplus und bunnunus\n",
      "chooso ond cossorolo\n",
      "steffed jelepene peppers\n"
     ]
    }
   ],
   "source": [
    "def vowel_replace(inpStr:str, replacevowel : str) ->str:\n",
    "    op = \"\";\n",
    "    for i in range(len(inpStr)):\n",
    "        if inpStr[i] in {'a', 'e', 'i', 'o', 'u'}:\n",
    "            op += replacevowel;\n",
    "        else:\n",
    "            op += inpStr[i];\n",
    "    return op;\n",
    "print(vowel_replace(\"apples and bannanas\", \"u\"));\n",
    "\n",
    "print(vowel_replace(\"cheese and casserole\", \"o\"));\n",
    "\n",
    "print(vowel_replace(\"stuffed jalapeno poppers\", \"e\"));"
   ]
  },
  {
   "cell_type": "markdown",
   "id": "48509f57",
   "metadata": {},
   "source": [
    "Question5\n",
    "Create a function that takes a string as input and capitalizes a letter if its ASCII code is even\n",
    "and returns its lower case version if its ASCII code is odd."
   ]
  },
  {
   "cell_type": "code",
   "execution_count": 40,
   "id": "a5988602",
   "metadata": {},
   "outputs": [
    {
     "name": "stdout",
     "output_type": "stream",
     "text": [
      "To Be oR NoT To Be!\n",
      "THe LiTTLe meRmaiD\n",
      "oH wHaT a BeauTiFuL moRNiNg.\n"
     ]
    }
   ],
   "source": [
    "def ascii_capitalize(inputStr : str)->str:\n",
    "    op = \"\";\n",
    "    for i in range(len(inputStr)):\n",
    "        if inputStr[i].isalpha() and ord(inputStr[i])%2!=0:\n",
    "           # print(ord(inputStr[i]))\n",
    "            op += inputStr[i].lower();\n",
    "        elif inputStr[i].isalpha() and ord(inputStr[i])%2==0:\n",
    "            op += inputStr[i].upper();\n",
    "            \n",
    "        else:\n",
    "            op += inputStr[i];\n",
    "    return op;\n",
    "print(ascii_capitalize(\"to be or not to be!\"))\n",
    "print(ascii_capitalize(\"THE LITTLE MERMAID\"))\n",
    "print(ascii_capitalize(\"Oh what a beautiful morning.\"))\n",
    "\n",
    "\n"
   ]
  },
  {
   "cell_type": "code",
   "execution_count": null,
   "id": "69110ed8",
   "metadata": {},
   "outputs": [],
   "source": []
  }
 ],
 "metadata": {
  "kernelspec": {
   "display_name": "Python 3 (ipykernel)",
   "language": "python",
   "name": "python3"
  },
  "language_info": {
   "codemirror_mode": {
    "name": "ipython",
    "version": 3
   },
   "file_extension": ".py",
   "mimetype": "text/x-python",
   "name": "python",
   "nbconvert_exporter": "python",
   "pygments_lexer": "ipython3",
   "version": "3.9.7"
  }
 },
 "nbformat": 4,
 "nbformat_minor": 5
}
