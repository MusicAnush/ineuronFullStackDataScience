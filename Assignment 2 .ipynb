{
 "cells": [
  {
   "cell_type": "markdown",
   "id": "9bdc16ff",
   "metadata": {},
   "source": [
    "## Assignment 2\n",
    "\n",
    "\n",
    "\n",
    "\n"
   ]
  },
  {
   "cell_type": "markdown",
   "id": "c87c7db7",
   "metadata": {},
   "source": [
    "1.What are the two values of the Boolean data type? How do you write them?\n",
    "Ans : \n",
    "\n",
    "condition1 = True\n",
    "condition2 = False\n"
   ]
  },
  {
   "cell_type": "markdown",
   "id": "ec8b5c6d",
   "metadata": {},
   "source": [
    "\n",
    "2. What are the three different types of Boolean operators? Ans:\n",
    "and, or, not are the three different types of boolean operators.\n",
    "\n"
   ]
  },
  {
   "cell_type": "markdown",
   "id": "73e329b8",
   "metadata": {},
   "source": [
    "3. Make a list of each Boolean operator's truth tables (i.e. every possible combination of Boolean values for the operator and what it evaluate ).\n",
    "\n",
    "\n",
    "Ans:\n"
   ]
  },
  {
   "cell_type": "code",
   "execution_count": 62,
   "id": "e69c3c03",
   "metadata": {},
   "outputs": [
    {
     "name": "stdout",
     "output_type": "stream",
     "text": [
      "And Table : \n",
      "input1 \t input2 \t result\n",
      "True \t True \t\t True\n",
      "True \t False \t\t False\n",
      "False \t True \t\t False\n",
      "False \t False \t\t False\n",
      "\n",
      "\n",
      "OR Table : \n",
      "input1 \t input2 \t result\n",
      "True \t True \t\t True\n",
      "True \t False \t\t True\n",
      "False \t True \t\t True\n",
      "False \t False \t\t False\n",
      "\n",
      "\n",
      " NOT table : \n",
      "input \t\t result\n",
      "True \t\t False\n",
      "False \t\t True\n"
     ]
    }
   ],
   "source": [
    "input1 = [True, True, False, False];\n",
    "input2  = [True, False, True , False];\n",
    "print(\"And Table : \");\n",
    "print(\"input1\", \"\\t\", \"input2\", \"\\t\", \"result\")\n",
    "for i in range(len(input1)):\n",
    "    #print(i)\n",
    "    print(input1[i],\"\\t\", input2[i] ,\"\\t\\t\",  input1[i] and input2[i]);\n",
    "print(\"\\n\\nOR Table : \");\n",
    "print(\"input1\", \"\\t\", \"input2\", \"\\t\", \"result\")\n",
    "for i in range(len(input1)):\n",
    "    #print(i)\n",
    "    print(input1[i],\"\\t\", input2[i] ,\"\\t\\t\",  input1[i] or input2[i]);\n",
    "    \n",
    "print(\"\\n\\n NOT table : \")\n",
    "inp = [True, False];\n",
    "print(\"input\",\"\\t\\t\", \"result\");\n",
    "for i in range(len(inp)):\n",
    "    print(inp[i], \"\\t\\t\", not inp[i]);\n",
    "\n",
    "    "
   ]
  },
  {
   "cell_type": "markdown",
   "id": "747d7b5b",
   "metadata": {},
   "source": [
    "4. What are the values of the following expressions?\n",
    "(5 > 4) and (3 == 5) Ans) True\n",
    "not (5 > 4) Ans) False\n",
    "(5 > 4) or (3 == 5) Ans) True\n",
    "not ((5 > 4) or (3 == 5)) Ans) False\n",
    "(True and True) and (True == False) Ans) False\n",
    "(not False) or (not True) Ans) True"
   ]
  },
  {
   "cell_type": "markdown",
   "id": "800eef36",
   "metadata": {},
   "source": [
    "5. What are the six comparison operators?"
   ]
  },
  {
   "cell_type": "code",
   "execution_count": 63,
   "id": "9e0418ec",
   "metadata": {},
   "outputs": [
    {
     "name": "stdout",
     "output_type": "stream",
     "text": [
      "1. = \n",
      "2. !=\n",
      "3. >\n",
      "4. >=\n",
      "5.<\n",
      "6.<=\n",
      "\n"
     ]
    }
   ],
   "source": [
    "print(\"1. = \\n2. !=\\n3. >\\n4. >=\\n5.<\\n6.<=\\n\");"
   ]
  },
  {
   "cell_type": "markdown",
   "id": "459a01bf",
   "metadata": {},
   "source": [
    "\n",
    "\n",
    "\n",
    "\n",
    "6. How do you tell the difference between the equal to and assignment operators?Describe a condition and when you would use one."
   ]
  },
  {
   "cell_type": "code",
   "execution_count": 64,
   "id": "5f25ad0d",
   "metadata": {},
   "outputs": [
    {
     "data": {
      "text/plain": [
       "False"
      ]
     },
     "execution_count": 64,
     "metadata": {},
     "output_type": "execute_result"
    }
   ],
   "source": [
    "i = 1 #assignment oprerator\n",
    "i == 2 # equal to operator checks for the condition."
   ]
  },
  {
   "cell_type": "code",
   "execution_count": 65,
   "id": "96b7de15",
   "metadata": {},
   "outputs": [
    {
     "name": "stdout",
     "output_type": "stream",
     "text": [
      "ham\n",
      "spam\n",
      "spam\n"
     ]
    }
   ],
   "source": [
    "#7. Identify the three blocks in this code:\n",
    "spam = 0\n",
    "#block1\n",
    "if spam == 10:\n",
    "    print('eggs')\n",
    "#block2\n",
    "if spam > 5:\n",
    "    print('bacon')\n",
    "#block3\n",
    "else:\n",
    "    print('ham')\n",
    "    print('spam')\n",
    "    print('spam')"
   ]
  },
  {
   "cell_type": "code",
   "execution_count": 66,
   "id": "ce6d4586",
   "metadata": {},
   "outputs": [
    {
     "name": "stdout",
     "output_type": "stream",
     "text": [
      "Hello\n",
      "howdy\n",
      "Greetings!\n"
     ]
    }
   ],
   "source": [
    "\n",
    "\n",
    "#8. Write code that prints Hello if 1 is stored in spam, prints Howdy if 2 is stored in spam, and prints Greetings! if anything else is stored in spam.\n",
    "\n",
    "def printMsg(spamValue = -1):\n",
    "    if spamValue == 1:\n",
    "        print(\"Hello\");\n",
    "    elif spamValue == 2:\n",
    "        print(\"howdy\");\n",
    "    else:\n",
    "        print(\"Greetings!\");\n",
    "printMsg(1);\n",
    "printMsg(2);\n",
    "printMsg();"
   ]
  },
  {
   "cell_type": "markdown",
   "id": "de8e583e",
   "metadata": {},
   "source": [
    "9.If your programme is stuck in an endless loop, what keys you’ll press?\n",
    "Ans : Ctrl + D or Ctrl + C"
   ]
  },
  {
   "cell_type": "markdown",
   "id": "22ab3dba",
   "metadata": {},
   "source": [
    "10. How can you tell the difference between break and continue?\n",
    "\n",
    "\n",
    "Ans : \n",
    "\n",
    "break will terminate the looping condition while continue will continue in the looping condition.\n",
    "\n",
    "ex : \n",
    "\n",
    "#code ex: print numbers from 1 - 10, but if number is 5 break from the loop else continue.\n",
    "i = 1;\n",
    "while i < 10:\n",
    "    if i == 5:\n",
    "        break;\n",
    "    else:\n",
    "        i += 1;\n",
    "        continue;\n",
    "    \n",
    "\n",
    "\n",
    "\n"
   ]
  },
  {
   "cell_type": "markdown",
   "id": "bd4a4d7b",
   "metadata": {},
   "source": [
    "11. In a for loop, what is the difference between range(10), range(0, 10), and range(0, 10, 1)?\n",
    "\n",
    "Ans : All are same, no difference, have shown below, that there is no difference. only thing is range(10) means by default it will take start value as 0 and the jump value as 1. in range(0,10), the default jump value is 1."
   ]
  },
  {
   "cell_type": "code",
   "execution_count": 67,
   "id": "12c4ffa2",
   "metadata": {},
   "outputs": [
    {
     "name": "stdout",
     "output_type": "stream",
     "text": [
      "0\n",
      "1\n",
      "2\n",
      "3\n",
      "4\n",
      "5\n",
      "6\n",
      "7\n",
      "8\n",
      "9\n"
     ]
    }
   ],
   "source": [
    "for i in range(10):\n",
    "    print (i)"
   ]
  },
  {
   "cell_type": "code",
   "execution_count": 68,
   "id": "67979fdf",
   "metadata": {},
   "outputs": [
    {
     "name": "stdout",
     "output_type": "stream",
     "text": [
      "0\n",
      "1\n",
      "2\n",
      "3\n",
      "4\n",
      "5\n",
      "6\n",
      "7\n",
      "8\n",
      "9\n"
     ]
    }
   ],
   "source": [
    "\n",
    "for i in range(0,10):\n",
    "    print (i)"
   ]
  },
  {
   "cell_type": "code",
   "execution_count": 69,
   "id": "730e6826",
   "metadata": {},
   "outputs": [
    {
     "name": "stdout",
     "output_type": "stream",
     "text": [
      "0\n",
      "1\n",
      "2\n",
      "3\n",
      "4\n",
      "5\n",
      "6\n",
      "7\n",
      "8\n",
      "9\n"
     ]
    }
   ],
   "source": [
    "\n",
    "for i in range(0,10,1):\n",
    "    print (i)"
   ]
  },
  {
   "cell_type": "markdown",
   "id": "0a496ffd",
   "metadata": {},
   "source": [
    "12. Write a short program that prints the numbers 1 to 10 using a for loop. Then write an equivalent program that prints the numbers 1 to 10 using a while loop."
   ]
  },
  {
   "cell_type": "code",
   "execution_count": 70,
   "id": "13d62131",
   "metadata": {},
   "outputs": [
    {
     "name": "stdout",
     "output_type": "stream",
     "text": [
      "1\n",
      "2\n",
      "3\n",
      "4\n",
      "5\n",
      "6\n",
      "7\n",
      "8\n",
      "9\n",
      "10\n",
      "\n",
      "\n",
      "1\n",
      "2\n",
      "3\n",
      "4\n",
      "5\n",
      "6\n",
      "7\n",
      "8\n",
      "9\n",
      "10\n"
     ]
    }
   ],
   "source": [
    "for i in range(1,11):\n",
    "    print (i);\n",
    "print(\"\\n\");\n",
    "i = 1\n",
    "while i <= 10:\n",
    "    print(i);\n",
    "    i += 1;\n",
    "    "
   ]
  },
  {
   "cell_type": "markdown",
   "id": "77183a09",
   "metadata": {},
   "source": [
    "13. If you had a function named bacon() inside a module named spam, how would you call it after importing spam?\n",
    "\n",
    "\n",
    "Ans) spam.bacon(); "
   ]
  },
  {
   "cell_type": "code",
   "execution_count": null,
   "id": "52550e86",
   "metadata": {},
   "outputs": [],
   "source": []
  },
  {
   "cell_type": "code",
   "execution_count": null,
   "id": "5d2b4e21",
   "metadata": {},
   "outputs": [],
   "source": []
  }
 ],
 "metadata": {
  "kernelspec": {
   "display_name": "Python 3 (ipykernel)",
   "language": "python",
   "name": "python3"
  },
  "language_info": {
   "codemirror_mode": {
    "name": "ipython",
    "version": 3
   },
   "file_extension": ".py",
   "mimetype": "text/x-python",
   "name": "python",
   "nbconvert_exporter": "python",
   "pygments_lexer": "ipython3",
   "version": "3.9.7"
  }
 },
 "nbformat": 4,
 "nbformat_minor": 5
}
